{
 "cells": [
  {
   "cell_type": "code",
   "execution_count": 38,
   "metadata": {},
   "outputs": [],
   "source": [
    "import pandas as pd\n",
    "import numpy as np\n",
    "import matplotlib.pyplot as plt"
   ]
  },
  {
   "cell_type": "code",
   "execution_count": 39,
   "metadata": {},
   "outputs": [],
   "source": [
    "data = pd.read_csv('Fuel_tweets.csv',sep = ',')"
   ]
  },
  {
   "cell_type": "code",
   "execution_count": 40,
   "metadata": {},
   "outputs": [],
   "source": [
    "data['Date'] = pd.to_datetime(data['date']).dt.date\n",
    "data['Time'] = pd.to_datetime(data['date']).dt.time\n",
    "data['Time'] = data['Time'].apply(lambda t: t.replace(second=0))"
   ]
  },
  {
   "cell_type": "code",
   "execution_count": 41,
   "metadata": {},
   "outputs": [],
   "source": [
    "data = data.drop(columns=['Unnamed: 0','date'])"
   ]
  },
  {
   "cell_type": "code",
   "execution_count": 42,
   "metadata": {},
   "outputs": [],
   "source": [
    "data.loc[data['text'].str.startswith(\"RT @\") == True, 'Retweet'] = 1\n",
    "data.loc[data['text'].str.startswith(\"RT @\") == False, 'Retweet'] = 0"
   ]
  },
  {
   "cell_type": "code",
   "execution_count": 43,
   "metadata": {},
   "outputs": [],
   "source": [
    "new = data[\"text\"].str.split(\"\\n\", n = 1, expand = True)\n",
    "new_df = new.iloc[:,:1]"
   ]
  },
  {
   "cell_type": "code",
   "execution_count": 44,
   "metadata": {},
   "outputs": [],
   "source": [
    "data['tweet'] = new_df\n",
    "data = data.drop(columns = ['text'])"
   ]
  },
  {
   "cell_type": "code",
   "execution_count": 45,
   "metadata": {},
   "outputs": [],
   "source": [
    "data.to_csv('FuelDf.csv', encoding = 'UTF-8', sep = ',')"
   ]
  },
  {
   "cell_type": "code",
   "execution_count": 46,
   "metadata": {},
   "outputs": [
    {
     "data": {
      "text/html": [
       "<div>\n",
       "<style scoped>\n",
       "    .dataframe tbody tr th:only-of-type {\n",
       "        vertical-align: middle;\n",
       "    }\n",
       "\n",
       "    .dataframe tbody tr th {\n",
       "        vertical-align: top;\n",
       "    }\n",
       "\n",
       "    .dataframe thead th {\n",
       "        text-align: right;\n",
       "    }\n",
       "</style>\n",
       "<table border=\"1\" class=\"dataframe\">\n",
       "  <thead>\n",
       "    <tr style=\"text-align: right;\">\n",
       "      <th></th>\n",
       "      <th>author</th>\n",
       "      <th>twitter_name</th>\n",
       "      <th>like_count</th>\n",
       "      <th>retweet_count</th>\n",
       "      <th>Date</th>\n",
       "      <th>Time</th>\n",
       "      <th>Retweet</th>\n",
       "      <th>tweet</th>\n",
       "    </tr>\n",
       "  </thead>\n",
       "  <tbody>\n",
       "    <tr>\n",
       "      <th>0</th>\n",
       "      <td>Fuel Labs</td>\n",
       "      <td>fuellabs_</td>\n",
       "      <td>0</td>\n",
       "      <td>7</td>\n",
       "      <td>2022-04-12</td>\n",
       "      <td>17:00:00</td>\n",
       "      <td>1.0</td>\n",
       "      <td>RT @IAmNickDodson: It should be noted that the...</td>\n",
       "    </tr>\n",
       "    <tr>\n",
       "      <th>1</th>\n",
       "      <td>Fuel Labs</td>\n",
       "      <td>fuellabs_</td>\n",
       "      <td>14</td>\n",
       "      <td>6</td>\n",
       "      <td>2022-04-12</td>\n",
       "      <td>13:00:00</td>\n",
       "      <td>0.0</td>\n",
       "      <td>⚡️ March has been a huge month for us!</td>\n",
       "    </tr>\n",
       "    <tr>\n",
       "      <th>2</th>\n",
       "      <td>Fuel Labs</td>\n",
       "      <td>fuellabs_</td>\n",
       "      <td>19</td>\n",
       "      <td>8</td>\n",
       "      <td>2022-04-11</td>\n",
       "      <td>13:00:00</td>\n",
       "      <td>0.0</td>\n",
       "      <td>Still wondering what Fuel Labs is working on?</td>\n",
       "    </tr>\n",
       "    <tr>\n",
       "      <th>3</th>\n",
       "      <td>Fuel Labs</td>\n",
       "      <td>fuellabs_</td>\n",
       "      <td>16</td>\n",
       "      <td>8</td>\n",
       "      <td>2022-04-07</td>\n",
       "      <td>12:00:00</td>\n",
       "      <td>0.0</td>\n",
       "      <td>🌴 Why should you use @SwayLang to develop smar...</td>\n",
       "    </tr>\n",
       "    <tr>\n",
       "      <th>4</th>\n",
       "      <td>Fuel Labs</td>\n",
       "      <td>fuellabs_</td>\n",
       "      <td>0</td>\n",
       "      <td>9</td>\n",
       "      <td>2022-04-06</td>\n",
       "      <td>20:24:00</td>\n",
       "      <td>1.0</td>\n",
       "      <td>RT @Folifoxx: An introduction to @fuellabs_</td>\n",
       "    </tr>\n",
       "  </tbody>\n",
       "</table>\n",
       "</div>"
      ],
      "text/plain": [
       "      author twitter_name  like_count  retweet_count        Date      Time  \\\n",
       "0  Fuel Labs    fuellabs_           0              7  2022-04-12  17:00:00   \n",
       "1  Fuel Labs    fuellabs_          14              6  2022-04-12  13:00:00   \n",
       "2  Fuel Labs    fuellabs_          19              8  2022-04-11  13:00:00   \n",
       "3  Fuel Labs    fuellabs_          16              8  2022-04-07  12:00:00   \n",
       "4  Fuel Labs    fuellabs_           0              9  2022-04-06  20:24:00   \n",
       "\n",
       "   Retweet                                              tweet  \n",
       "0      1.0  RT @IAmNickDodson: It should be noted that the...  \n",
       "1      0.0             ⚡️ March has been a huge month for us!  \n",
       "2      0.0      Still wondering what Fuel Labs is working on?  \n",
       "3      0.0  🌴 Why should you use @SwayLang to develop smar...  \n",
       "4      1.0        RT @Folifoxx: An introduction to @fuellabs_  "
      ]
     },
     "execution_count": 46,
     "metadata": {},
     "output_type": "execute_result"
    }
   ],
   "source": [
    "data.head()"
   ]
  },
  {
   "cell_type": "code",
   "execution_count": null,
   "metadata": {},
   "outputs": [],
   "source": []
  }
 ],
 "metadata": {
  "interpreter": {
   "hash": "ceb56f6bd6885af2928ca8ca3b2f03647bbe6fc489702ba05e3d90c8aee8ab84"
  },
  "kernelspec": {
   "display_name": "Python 3.7.4 ('base')",
   "language": "python",
   "name": "python3"
  },
  "language_info": {
   "codemirror_mode": {
    "name": "ipython",
    "version": 3
   },
   "file_extension": ".py",
   "mimetype": "text/x-python",
   "name": "python",
   "nbconvert_exporter": "python",
   "pygments_lexer": "ipython3",
   "version": "3.7.13"
  },
  "orig_nbformat": 4
 },
 "nbformat": 4,
 "nbformat_minor": 2
}
